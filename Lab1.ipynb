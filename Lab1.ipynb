{
 "cells": [
  {
   "cell_type": "code",
   "execution_count": 7,
   "id": "a7de70c7-08f1-47d7-8840-b79e251de53d",
   "metadata": {},
   "outputs": [
    {
     "name": "stdout",
     "output_type": "stream",
     "text": [
      "Raw Text:\n",
      " Hello, this is a sample text file.\n",
      "This is the second line.\n"
     ]
    }
   ],
   "source": [
    "# Read the content of the text file \n",
    "with open('sample.txt', 'r', encoding='utf-8') as file: \n",
    "    text_data = file.read() \n",
    "    print(\"Raw Text:\\n\", text_data) \n",
    "# Store in another file \n",
    "with open('stored_text.txt', 'w', encoding='utf-8') as file: \n",
    "    file.write(text_data)"
   ]
  },
  {
   "cell_type": "code",
   "execution_count": 13,
   "id": "41dbd532-ad3f-47e5-82e3-45f4e7aab003",
   "metadata": {},
   "outputs": [
    {
     "name": "stdout",
     "output_type": "stream",
     "text": [
      "Reviews:\n",
      " 0    The product is amazing!\n",
      "1     Worst experience ever!\n",
      "Name: Review, dtype: object\n"
     ]
    }
   ],
   "source": [
    "import pandas as pd \n",
    "\n",
    "# Read the CSV file \n",
    "df = pd.read_csv('reviews.csv') \n",
    "print(\"Reviews:\\n\", df['Review'].head()) \n",
    "# Save the reviews column to a text file \n",
    "df['Review'].to_csv('stored_reviews.txt', index=False, header=False)"
   ]
  },
  {
   "cell_type": "code",
   "execution_count": 15,
   "id": "ee8daaf3-3c4c-4da5-bf4f-8dedd5e84d60",
   "metadata": {},
   "outputs": [
    {
     "name": "stdout",
     "output_type": "stream",
     "text": [
      "First two rows:\n",
      "    ID                   Review\n",
      "0   1  The product is amazing!\n",
      "1   2   Worst experience ever!\n"
     ]
    }
   ],
   "source": [
    "import pandas as pd\n",
    "\n",
    "# Read the Excel file \n",
    "df_excel = pd.read_excel('reviews.xlsx', engine='openpyxl') \n",
    "print(\"First two rows:\\n\", df_excel.head(2)) \n",
    "# Save the first two rows to a text file \n",
    "df_excel.head(2).to_csv('extracted_excel.txt', index=False)"
   ]
  },
  {
   "cell_type": "code",
   "execution_count": 17,
   "id": "de0d7dfb-84c0-46bc-8d44-27d0ab464dd0",
   "metadata": {},
   "outputs": [
    {
     "name": "stdout",
     "output_type": "stream",
     "text": [
      "Extracted City: New York\n"
     ]
    }
   ],
   "source": [
    "import json \n",
    " \n",
    "# Read the JSON file \n",
    "with open('social_data.json', 'r', encoding='utf-8') as file: \n",
    "    data = json.load(file) \n",
    "print(\"Extracted City:\", data['city']) \n",
    " \n",
    "# Store the extracted city to a file \n",
    "with open('stored_city.txt', 'w', encoding='utf-8') as file: \n",
    "    file.write(data['city']) "
   ]
  },
  {
   "cell_type": "code",
   "execution_count": 19,
   "id": "2a381070-e0ed-4163-9877-315543cc299d",
   "metadata": {},
   "outputs": [
    {
     "name": "stdout",
     "output_type": "stream",
     "text": [
      "Extracted Title: AI is transforming industries\n"
     ]
    }
   ],
   "source": [
    "import xml.etree.ElementTree as ET \n",
    " \n",
    "# Parse the XML file \n",
    "tree = ET.parse('news.xml') \n",
    "root = tree.getroot() \n",
    " \n",
    "for article in root.findall('article'): \n",
    "    title = article.find('title').text \n",
    "    print(\"Extracted Title:\", title) \n",
    " \n",
    "# Store the extracted title to a file \n",
    "with open('stored_titles.txt', 'w', encoding='utf-8') as file: \n",
    "    for article in root.findall('article'): \n",
    "        title = article.find('title').text \n",
    "        file.write(title + '\\n')"
   ]
  },
  {
   "cell_type": "code",
   "execution_count": 15,
   "id": "80a70a1c-963e-4c18-b6ec-53491e1c292a",
   "metadata": {},
   "outputs": [
    {
     "name": "stdout",
     "output_type": "stream",
     "text": [
      "Defaulting to user installation because normal site-packages is not writeable\n",
      "Looking in links: /usr/share/pip-wheels\n",
      "Collecting PyPDF2\n",
      "  Downloading pypdf2-3.0.1-py3-none-any.whl.metadata (6.8 kB)\n",
      "Downloading pypdf2-3.0.1-py3-none-any.whl (232 kB)\n",
      "\u001b[2K   \u001b[38;5;70m━━━━━━━━━━━━━━━━━━━━━━━━━━━━━━━━━━━━━━━━\u001b[0m \u001b[32m232.6/232.6 kB\u001b[0m \u001b[31m2.9 MB/s\u001b[0m eta \u001b[36m0:00:00\u001b[0m.7 MB/s\u001b[0m eta \u001b[36m0:00:01\u001b[0m\n",
      "\u001b[?25hInstalling collected packages: PyPDF2\n",
      "Successfully installed PyPDF2-3.0.1\n",
      "Note: you may need to restart the kernel to use updated packages.\n"
     ]
    }
   ],
   "source": [
    "pip install PyPDF2"
   ]
  },
  {
   "cell_type": "code",
   "execution_count": 1,
   "id": "a3a8b52f-2c80-4777-9785-3d83a86637c0",
   "metadata": {},
   "outputs": [
    {
     "name": "stdout",
     "output_type": "stream",
     "text": [
      "Extracted PDF Text:\n",
      " This is a sample PDF document.  \n",
      "AI is transforming industries and automation.  \n"
     ]
    }
   ],
   "source": [
    "import PyPDF2 \n",
    "# Read the PDF file \n",
    "with open('document.pdf', 'rb') as file: \n",
    "    reader = PyPDF2.PdfReader(file) \n",
    "    text = \"\\n\".join(page.extract_text() for page in reader.pages if page.extract_text()) \n",
    "# Print the extracted text \n",
    "    print(\"Extracted PDF Text:\\n\", text) \n",
    "# Store the extracted text in a file \n",
    "with open('stored_pdf_text.txt', 'w', encoding='utf-8') as output: \n",
    "    output.write(text)"
   ]
  },
  {
   "cell_type": "code",
   "execution_count": 22,
   "id": "72453af4-d5ae-4415-a2ab-6f845532ccfa",
   "metadata": {},
   "outputs": [
    {
     "name": "stdout",
     "output_type": "stream",
     "text": [
      "Text extracted and saved to business_proposal_all.txt\n"
     ]
    }
   ],
   "source": [
    "import PyPDF2\n",
    "\n",
    "def extract_text_from_pdf_all_pages(pdf_path, output_path):\n",
    "    with open(pdf_path, 'rb') as file:\n",
    "        reader = PyPDF2.PdfReader(file)\n",
    "        text = \"\\n\".join(page.extract_text() for page in reader.pages if page.extract_text())\n",
    "        \n",
    "        # Save extracted text to file\n",
    "        with open(output_path, 'w', encoding='utf-8') as output_file:\n",
    "            output_file.write(text)\n",
    "        \n",
    "        print(f\"Text extracted and saved to {output_path}\")\n",
    "\n",
    "# Exercise 1: Extract text from all pages and save to business_proposal_all.txt\n",
    "extract_text_from_pdf_all_pages('Business_Proposal.pdf', 'business_proposal_all.txt')"
   ]
  },
  {
   "cell_type": "code",
   "execution_count": 24,
   "id": "0512453e-b80a-4cf2-8d47-071cd63ba71e",
   "metadata": {},
   "outputs": [
    {
     "name": "stdout",
     "output_type": "stream",
     "text": [
      "Text extracted and saved to business_proposal_page_2.txt\n"
     ]
    }
   ],
   "source": [
    "import PyPDF2\n",
    "\n",
    "def extract_text_from_pdf_page(pdf_path, output_path, page_number):\n",
    "    with open(pdf_path, 'rb') as file:\n",
    "        reader = PyPDF2.PdfReader(file)\n",
    "        text = reader.pages[page_number - 1].extract_text() if reader.pages[page_number - 1].extract_text() else \"\"\n",
    "        \n",
    "        # Save extracted text to file\n",
    "        with open(output_path, 'w', encoding='utf-8') as output_file:\n",
    "            output_file.write(text)\n",
    "        \n",
    "        print(f\"Text extracted and saved to {output_path}\")\n",
    "\n",
    "# Exercise 2: Extract text from only page 2 and save to business_proposal_page_2.txt\n",
    "extract_text_from_pdf_page('Business_Proposal.pdf', 'business_proposal_page_2.txt', page_number=2)"
   ]
  },
  {
   "cell_type": "code",
   "execution_count": null,
   "id": "46ba8ba4-83a1-40d9-a734-3673b86cf0cd",
   "metadata": {},
   "outputs": [],
   "source": []
  }
 ],
 "metadata": {
  "kernelspec": {
   "display_name": "anaconda-2024.02-py310",
   "language": "python",
   "name": "conda-env-anaconda-2024.02-py310-py"
  },
  "language_info": {
   "codemirror_mode": {
    "name": "ipython",
    "version": 3
   },
   "file_extension": ".py",
   "mimetype": "text/x-python",
   "name": "python",
   "nbconvert_exporter": "python",
   "pygments_lexer": "ipython3",
   "version": "3.10.14"
  }
 },
 "nbformat": 4,
 "nbformat_minor": 5
}
