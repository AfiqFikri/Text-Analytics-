{
 "cells": [
  {
   "cell_type": "code",
   "execution_count": 1,
   "id": "4c8968fc-7565-4efd-a2ef-f20a035331df",
   "metadata": {},
   "outputs": [],
   "source": [
    "import re"
   ]
  },
  {
   "cell_type": "code",
   "execution_count": 3,
   "id": "4105d213-853f-41e3-aa29-f1badd4e754f",
   "metadata": {},
   "outputs": [
    {
     "name": "stdout",
     "output_type": "stream",
     "text": [
      "Digits found: ['2', '4', '5', '6', '7', '8', '9', '3', '4', '1', '2', '3', '0']\n"
     ]
    }
   ],
   "source": [
    "text = \"Order number: 24567, Tracking ID: 8934A12, Quantity: 30\"\n",
    "\n",
    "pattern = r'\\d'  # Matches any single digit\n",
    "\n",
    "matches = re.findall(pattern, text)\n",
    "print(\"Digits found:\", matches)\n"
   ]
  },
  {
   "cell_type": "code",
   "execution_count": 5,
   "id": "9db962b3-7e6c-4e8c-9d74-2aeb941be7e9",
   "metadata": {},
   "outputs": [
    {
     "name": "stdout",
     "output_type": "stream",
     "text": [
      "Non-alphanumeric characters: ['!', ' ', \"'\", ' ', ' ', ' ', '?', ' ', ' ', ' ', '@', ' ', '.']\n"
     ]
    }
   ],
   "source": [
    "text = \"Welcome! How's your day going? Call me @ 3pm.\"\n",
    "\n",
    "# Regular expression to extract all non-alphanumeric characters\n",
    "pattern = r'\\W'  # Matches any non-word character (anything other than [a-zA-Z0-9_])\n",
    "\n",
    "# Find all matches\n",
    "matches = re.findall(pattern, text)\n",
    "\n",
    "# Print the extracted non-alphanumeric characters\n",
    "print(\"Non-alphanumeric characters:\", matches)"
   ]
  },
  {
   "cell_type": "code",
   "execution_count": 7,
   "id": "a9e5fdd5-85f5-4b29-babf-553eb782ee75",
   "metadata": {},
   "outputs": [
    {
     "name": "stdout",
     "output_type": "stream",
     "text": [
      "Split text: ['Data Science', ' AI', ' and Machine Learning', ' These fields are growing fast', '']\n"
     ]
    }
   ],
   "source": [
    "text = \"Data Science, AI, and Machine Learning. These fields are growing fast.\"\n",
    "\n",
    "# Regular expression to split at commas and periods\n",
    "pattern = r'[,.]'  # Matches ',' or '.'\n",
    "\n",
    "# Split the text\n",
    "split_text = re.split(pattern, text)\n",
    "\n",
    "# Print the split text\n",
    "print(\"Split text:\", split_text)"
   ]
  },
  {
   "cell_type": "code",
   "execution_count": 9,
   "id": "7905ebf7-030f-4282-acea-8f7746c36861",
   "metadata": {},
   "outputs": [
    {
     "name": "stdout",
     "output_type": "stream",
     "text": [
      "Anonymized text: Contact us at [HIDDEN] or [HIDDEN]\n"
     ]
    }
   ],
   "source": [
    "text = \"Contact us at support@example.com or info@company.org\"\n",
    "\n",
    "# Regular expression to match email addresses\n",
    "pattern = r'\\b[A-Za-z0-9._%+-]+@[A-Za-z0-9.-]+\\.[A-Z|a-z]{2,}\\b'\n",
    "\n",
    "# Replace email addresses with [HIDDEN]\n",
    "new_text = re.sub(pattern, \"[HIDDEN]\", text)\n",
    "\n",
    "# Print the anonymized text\n",
    "print(\"Anonymized text:\", new_text)"
   ]
  },
  {
   "cell_type": "code",
   "execution_count": 11,
   "id": "198dbf13-87f1-4b87-a99d-d1995c6068a4",
   "metadata": {},
   "outputs": [
    {
     "name": "stdout",
     "output_type": "stream",
     "text": [
      "Domain types: ['com', 'edu', 'org']\n"
     ]
    }
   ],
   "source": [
    "text = \"Emails: user@gmail.com, admin@university.edu, info@company.org\"\n",
    "\n",
    "# Regular expression to extract the domain type (TLD)\n",
    "pattern = r'@[\\w.-]+\\.(\\w{2,})'  # Captures the last part after the dot in the domain\n",
    "\n",
    "# Find all matches\n",
    "matches = re.findall(pattern, text)\n",
    "\n",
    "# Print the extracted domain types\n",
    "print(\"Domain types:\", matches)"
   ]
  },
  {
   "cell_type": "code",
   "execution_count": null,
   "id": "6a8dd549-5a9a-44c4-bcd7-c7974e525b9c",
   "metadata": {},
   "outputs": [],
   "source": []
  }
 ],
 "metadata": {
  "kernelspec": {
   "display_name": "Python [conda env:base] *",
   "language": "python",
   "name": "conda-base-py"
  },
  "language_info": {
   "codemirror_mode": {
    "name": "ipython",
    "version": 3
   },
   "file_extension": ".py",
   "mimetype": "text/x-python",
   "name": "python",
   "nbconvert_exporter": "python",
   "pygments_lexer": "ipython3",
   "version": "3.12.7"
  }
 },
 "nbformat": 4,
 "nbformat_minor": 5
}
